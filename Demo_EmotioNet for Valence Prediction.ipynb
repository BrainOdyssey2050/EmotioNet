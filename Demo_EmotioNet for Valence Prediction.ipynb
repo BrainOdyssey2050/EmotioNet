{
 "cells": [
  {
   "cell_type": "markdown",
   "metadata": {},
   "source": [
    "## 1. Load data"
   ]
  },
  {
   "cell_type": "code",
   "execution_count": 1,
   "metadata": {
    "collapsed": true
   },
   "outputs": [],
   "source": [
    "import numpy as np\n",
    "from Library.signal_target import SignalAndTarget\n",
    "import scipy.io as sio"
   ]
  },
  {
   "cell_type": "code",
   "execution_count": 2,
   "metadata": {
    "collapsed": true
   },
   "outputs": [],
   "source": [
    "# Dataset\n",
    "train_dict = sio.loadmat(r'/data/yiwang/DEAP_10_iterations_3D/Train_data_and_labels_3d.mat')\n",
    "test_dict = sio.loadmat(r'/data/yiwang/DEAP_10_iterations_3D/Test_data_and_labels_3d.mat')\n",
    "\n",
    "# Load Valence Data&Label for training and testing\n",
    "train_valence_data = train_dict['train_valence_data_balanced_3d']\n",
    "train_valence_label = train_dict['train_valence_label_balanced']\n",
    "test_valence_data = test_dict['test_valence_data_3d']\n",
    "test_valence_label = test_dict['test_valence_label']\n",
    "\n",
    "# Type\n",
    "train_valence_data = train_valence_data.astype(np.float32)\n",
    "train_valence_label = train_valence_label.astype(np.int64)\n",
    "test_valence_data = test_valence_data.astype(np.float32)\n",
    "test_valence_label = test_valence_label.astype(np.int64)\n",
    "\n",
    "# Shape\n",
    "train_valence_label.shape = (train_valence_label.shape[0],)\n",
    "test_valence_label.shape = (test_valence_label.shape[0],)\n",
    "\n",
    "# Form train and test set\n",
    "train_set = SignalAndTarget(train_valence_data, y=train_valence_label)\n",
    "test_set = SignalAndTarget(test_valence_data, y=test_valence_label)"
   ]
  },
  {
   "cell_type": "markdown",
   "metadata": {},
   "source": [
    "------"
   ]
  },
  {
   "cell_type": "markdown",
   "metadata": {},
   "source": [
    "## 2. Create the model, optimizer, iterator"
   ]
  },
  {
   "cell_type": "code",
   "execution_count": 3,
   "metadata": {
    "collapsed": true
   },
   "outputs": [],
   "source": [
    "from Library_3D.EmotionRecognition import EmotioNet                                             \n",
    "from torch import nn\n",
    "from Library.torch_ext_util import set_random_seeds\n",
    "from Library.models_util import to_dense_prediction_model"
   ]
  },
  {
   "cell_type": "code",
   "execution_count": 4,
   "metadata": {
    "collapsed": true
   },
   "outputs": [],
   "source": [
    "cuda = True\n",
    "\n",
    "# set seeds for generating random numbers for torch, CUDA and numpy\n",
    "set_random_seeds(seed=19890516, cuda=cuda)                                                      "
   ]
  },
  {
   "cell_type": "code",
   "execution_count": 5,
   "metadata": {
    "collapsed": true
   },
   "outputs": [],
   "source": [
    "input_time_length = 450\n",
    "\n",
    "model = EmotioNet(in_chans=32, n_classes=2, input_time_length=input_time_length,                \n",
    "                 final_conv_length=1).create_network()\n",
    "# final_conv_length determines the size of the receptive field of the ConvNet"
   ]
  },
  {
   "cell_type": "code",
   "execution_count": 6,
   "metadata": {
    "collapsed": true
   },
   "outputs": [],
   "source": [
    "if cuda:\n",
    "    model.cuda()  # moves all model parameters and buffers to the GPU\n",
    "\n",
    "from torch import optim\n",
    "optimizer = optim.Adam(model.parameters())"
   ]
  },
  {
   "cell_type": "code",
   "execution_count": 7,
   "metadata": {},
   "outputs": [
    {
     "name": "stdout",
     "output_type": "stream",
     "text": [
      "396 predictions per input/trial\n"
     ]
    },
    {
     "name": "stderr",
     "output_type": "stream",
     "text": [
      "/home/cshome/d/davidwang/anaconda3/envs/Brain_Decoder/lib/python3.6/site-packages/torch/nn/modules/container.py:67: UserWarning: Implicit dimension choice for log_softmax has been deprecated. Change the call to include dim=X as an argument.\n",
      "  input = module(input)\n"
     ]
    }
   ],
   "source": [
    "from Library.torch_ext_util import np_to_var\n",
    "\n",
    "batch_size = 10\n",
    "test_input = np_to_var(np.ones((batch_size, 7, 9, input_time_length, 1), dtype=np.float32))\n",
    "if cuda:\n",
    "    test_input = test_input.cuda()\n",
    "\n",
    "out = model(test_input)\n",
    "\n",
    "n_preds_per_input = out.cpu().data.numpy().shape[2]\n",
    "print(\"{:d} predictions per input/trial\".format(n_preds_per_input))"
   ]
  },
  {
   "cell_type": "code",
   "execution_count": 8,
   "metadata": {
    "collapsed": true
   },
   "outputs": [],
   "source": [
    "from Library_3D.iterators_for_3d import CropsFromTrialsIterator\n",
    "iterator = CropsFromTrialsIterator(batch_size=10,input_time_length=input_time_length,\n",
    "                                  n_preds_per_input=n_preds_per_input)"
   ]
  },
  {
   "cell_type": "markdown",
   "metadata": {},
   "source": [
    "## 3. Training and Testing"
   ]
  },
  {
   "cell_type": "code",
   "execution_count": 9,
   "metadata": {
    "scrolled": false
   },
   "outputs": [
    {
     "name": "stderr",
     "output_type": "stream",
     "text": [
      "/home/cshome/d/davidwang/anaconda3/envs/Brain_Decoder/lib/python3.6/site-packages/torch/nn/modules/container.py:67: UserWarning: Implicit dimension choice for log_softmax has been deprecated. Change the call to include dim=X as an argument.\n",
      "  input = module(input)\n"
     ]
    },
    {
     "name": "stdout",
     "output_type": "stream",
     "text": [
      "Initialization...\n",
      "Train  Loss: 0.98158\n",
      "Train  Accuracy: 50.0%\n",
      "Initialization...\n",
      "Test   Loss: 1.21702\n",
      "Test   Accuracy: 20.0%\n",
      "Epoch 0\n",
      "Train....\n",
      "Train  Loss: 0.55685\n",
      "Train  Accuracy: 71.5%\n",
      "Test   Loss: 0.65225\n",
      "Test   Accuracy: 58.0%\n",
      "Epoch 1\n",
      "Train....\n",
      "Train  Loss: 0.55139\n",
      "Train  Accuracy: 70.9%\n",
      "Test   Loss: 0.67411\n",
      "Test   Accuracy: 68.0%\n",
      "Epoch 2\n",
      "Train....\n",
      "Train  Loss: 0.52835\n",
      "Train  Accuracy: 72.2%\n",
      "Test   Loss: 0.66110\n",
      "Test   Accuracy: 58.0%\n",
      "Epoch 3\n",
      "Train....\n",
      "Train  Loss: 0.52490\n",
      "Train  Accuracy: 72.2%\n",
      "Test   Loss: 0.63011\n",
      "Test   Accuracy: 74.0%\n",
      "Epoch 4\n",
      "Train....\n",
      "Train  Loss: 0.53555\n",
      "Train  Accuracy: 72.1%\n",
      "Test   Loss: 0.64509\n",
      "Test   Accuracy: 70.0%\n",
      "Epoch 5\n",
      "Train....\n",
      "Train  Loss: 0.53427\n",
      "Train  Accuracy: 73.8%\n",
      "Test   Loss: 0.69349\n",
      "Test   Accuracy: 50.0%\n",
      "Epoch 6\n",
      "Train....\n",
      "Train  Loss: 0.52264\n",
      "Train  Accuracy: 72.7%\n",
      "Test   Loss: 0.61924\n",
      "Test   Accuracy: 80.0%\n",
      "Epoch 7\n",
      "Train....\n",
      "Train  Loss: 0.53613\n",
      "Train  Accuracy: 73.2%\n",
      "Test   Loss: 0.56043\n",
      "Test   Accuracy: 80.0%\n",
      "Epoch 8\n",
      "Train....\n",
      "Train  Loss: 0.50603\n",
      "Train  Accuracy: 73.2%\n",
      "Test   Loss: 0.75835\n",
      "Test   Accuracy: 38.0%\n",
      "Epoch 9\n",
      "Train....\n",
      "Train  Loss: 0.51068\n",
      "Train  Accuracy: 73.0%\n",
      "Test   Loss: 0.67894\n",
      "Test   Accuracy: 56.0%\n"
     ]
    }
   ],
   "source": [
    "from Library.torch_ext_util import np_to_var, var_to_np\n",
    "import torch.nn.functional as F\n",
    "from numpy.random import RandomState\n",
    "import torch as th\n",
    "from Library_3D.monitors_3d import compute_preds_per_trial_for_set\n",
    "\n",
    "#---plot 1\n",
    "train_loss_list=[]\n",
    "test_loss_list=[]\n",
    "#---plot 2\n",
    "train_accuracy_list=[]\n",
    "test_accuracy_list=[]\n",
    "\n",
    "# Calculate the initial loss and accuracy.\n",
    "model.eval()\n",
    "for setname, dataset in (('Train', train_set),('Test', test_set)):\n",
    "    # Collect all predictions and losses\n",
    "    all_preds = []\n",
    "    all_losses = []\n",
    "    batch_sizes = []\n",
    "\n",
    "    for batch_X, batch_y in iterator.get_batches(dataset, shuffle=False):     \n",
    "        net_in = np_to_var(batch_X)\n",
    "        if cuda:\n",
    "            net_in = net_in.cuda()\n",
    "\n",
    "        net_target = np_to_var(batch_y)\n",
    "        if cuda:\n",
    "            net_target = net_target.cuda()\n",
    "\n",
    "        outputs = model(net_in)\n",
    "        # output shape = (10, 2, 78)\n",
    "\n",
    "        all_preds.append(var_to_np(outputs))\n",
    "\n",
    "        outputs = th.mean(outputs, dim=2, keepdim=False)\n",
    "        # output shape = (10, 2)\n",
    "        loss = F.nll_loss(outputs, net_target)\n",
    "        loss = float(var_to_np(loss))\n",
    "        all_losses.append(loss)\n",
    "\n",
    "        batch_sizes.append(len(batch_X))\n",
    "\n",
    "    # outputs of the for loop:\n",
    "    # all_preds = [np.array() shape=(30, 2, 345),  ...] for all batches\n",
    "    # all_losses = [np.array() shape=(30,), ...] for all batches\n",
    "    # batch_sizes = [30, 30, ...]\n",
    "\n",
    "    print (\"Initialization...\")\n",
    "    loss = np.mean(np.array(all_losses) * np.array(batch_sizes) / np.mean(batch_sizes))\n",
    "    print(\"{:6s} Loss: {:.5f}\".format(setname, loss))\n",
    "\n",
    "    preds_per_trial = compute_preds_per_trial_for_set(all_preds,\n",
    "                                                      input_time_length,\n",
    "                                                      dataset)\n",
    "\n",
    "    meaned_preds_per_trial = np.array([np.mean(p, axis=1) for p in preds_per_trial])\n",
    "    # print (meaned_preds_per_trial.shape) = (1080, 2) for training，(200, 2) for testing \n",
    "\n",
    "    predicted_labels = np.argmax(meaned_preds_per_trial, axis=1)\n",
    "    accuracy = np.mean(predicted_labels == dataset.y)\n",
    "    print(\"{:6s} Accuracy: {:.1f}%\".format(setname, accuracy * 100))\n",
    "       \n",
    "    if setname=='Train':\n",
    "        train_loss_list.append(loss)\n",
    "        train_accuracy_list.append(accuracy)\n",
    "    if setname=='Test':\n",
    "        test_loss_list.append(loss)\n",
    "        test_accuracy_list.append(accuracy)\n",
    "\n",
    "# Training and testing, output performance on training and testing for each epoch\n",
    "rng = RandomState((2017,10,25))                                                                 \n",
    "for i_epoch in range(10):                                                                       \n",
    "    print(\"Epoch {:d}\".format(i_epoch))\n",
    "    print(\"Train....\")\n",
    "\n",
    "    model.train()    \n",
    "    for batch_X, batch_y in iterator.get_batches(train_set, shuffle=True): \n",
    "        # print (batch_X.shape)  (10, 32, 450, 1)\n",
    "        # print (batch_y.shape)  (10,)\n",
    "        \n",
    "        net_in = np_to_var(batch_X)\n",
    "        if cuda:\n",
    "            net_in = net_in.cuda()\n",
    "        \n",
    "        net_target = np_to_var(batch_y)\n",
    "        if cuda:\n",
    "            net_target = net_target.cuda()\n",
    "        \n",
    "        # Remove gradients of last backward pass from all parameters \n",
    "        optimizer.zero_grad()\n",
    "        \n",
    "        outputs = model(net_in)\n",
    "        # output shape = (10, 2, 345)\n",
    "        # print (outputs.cpu().data.numpy()[0,:,:])\n",
    "        \n",
    "        outputs = th.mean(outputs, dim=2, keepdim=False)\n",
    "        # Mean predictions across trial (over 345), ouput shape = (10,2)\n",
    "        # net_target shape = (10,), value = 0 or 1\n",
    "             \n",
    "        loss = F.nll_loss(outputs, net_target)\n",
    "        loss.backward()\n",
    "        optimizer.step() \n",
    "    \n",
    "    model.eval()\n",
    "    for setname, dataset in (('Train', train_set),('Test', test_set)):\n",
    "        all_preds = []\n",
    "        all_losses = []\n",
    "        batch_sizes = []\n",
    "        \n",
    "        for batch_X, batch_y in iterator.get_batches(dataset, shuffle=False):           \n",
    "            net_in = np_to_var(batch_X)\n",
    "            if cuda:\n",
    "                net_in = net_in.cuda()\n",
    "                \n",
    "            net_target = np_to_var(batch_y)\n",
    "            if cuda:\n",
    "                net_target = net_target.cuda()\n",
    "                \n",
    "            outputs = model(net_in)\n",
    "            # output shape = (30, 2, 345)\n",
    "            \n",
    "            all_preds.append(var_to_np(outputs))\n",
    "            \n",
    "            outputs = th.mean(outputs, dim=2, keepdim=False)\n",
    "            # output shape = (30, 2)\n",
    "            loss = F.nll_loss(outputs, net_target)\n",
    "            loss = float(var_to_np(loss))\n",
    "            all_losses.append(loss)\n",
    "            \n",
    "            batch_sizes.append(len(batch_X))\n",
    "        \n",
    "        # outputs of the for loop:\n",
    "        # all_preds = [np.array() shape=(30, 2, 345),  ...] for all batches\n",
    "        # all_losses = [np.array() shape=(30,), ...] for all batches\n",
    "        # batch_sizes = [30, 30, ...]\n",
    "        \n",
    "        # Compute mean per-input loss \n",
    "        loss = np.mean(np.array(all_losses) * np.array(batch_sizes) / np.mean(batch_sizes))\n",
    "        print(\"{:6s} Loss: {:.5f}\".format(setname, loss))\n",
    "        \n",
    "\n",
    "        \n",
    "        preds_per_trial = compute_preds_per_trial_for_set(all_preds,\n",
    "                                                          input_time_length,\n",
    "                                                          dataset)    \n",
    "        # Now mean across timesteps for each trial to get per-trial predictions\n",
    "        meaned_preds_per_trial = np.array([np.mean(p, axis=1) for p in preds_per_trial])\n",
    "        # print (meaned_preds_per_trial.shape) = (1080, 2) for training，(200, 2) for testing       \n",
    "        predicted_labels = np.argmax(meaned_preds_per_trial, axis=1)\n",
    "\n",
    "        accuracy = np.mean(predicted_labels == dataset.y)\n",
    "        print(\"{:6s} Accuracy: {:.1f}%\".format(setname, accuracy * 100))\n",
    "     \n",
    "        # -----\n",
    "        if setname=='Train':\n",
    "            train_loss_list.append(loss)\n",
    "            train_accuracy_list.append(accuracy)\n",
    "        if setname=='Test':\n",
    "            test_loss_list.append(loss)\n",
    "            test_accuracy_list.append(accuracy)"
   ]
  },
  {
   "cell_type": "code",
   "execution_count": 10,
   "metadata": {
    "collapsed": true
   },
   "outputs": [],
   "source": [
    "import matplotlib.pyplot as plt"
   ]
  },
  {
   "cell_type": "code",
   "execution_count": 11,
   "metadata": {},
   "outputs": [
    {
     "data": {
      "image/png": "[encoded data removed]",
      "text/plain": [
       "<matplotlib.figure.Figure at 0x7f82000b7da0>"
      ]
     },
     "metadata": {},
     "output_type": "display_data"
    }
   ],
   "source": [
    "plt.subplot(1,2,1)\n",
    "plt.plot(train_loss_list, 'r', label='train loss')\n",
    "plt.plot(test_loss_list, 'g', label='test loss')\n",
    "\n",
    "plt.subplot(1,2,2)\n",
    "plt.plot(train_accuracy_list, 'r', label='train acc')\n",
    "plt.plot(test_accuracy_list, 'g', label='test acc')\n",
    "\n",
    "plt.show()"
   ]
  },
  {
   "cell_type": "code",
   "execution_count": null,
   "metadata": {
    "collapsed": true
   },
   "outputs": [],
   "source": []
  }
 ],
 "metadata": {
  "git": {
   "keep_outputs": true
  },
  "kernelspec": {
   "display_name": "Python [conda env:anaconda]",
   "language": "python",
   "name": "conda-env-anaconda-py"
  },
  "language_info": {
   "codemirror_mode": {
    "name": "ipython",
    "version": 2
   },
   "file_extension": ".py",
   "mimetype": "text/x-python",
   "name": "python",
   "nbconvert_exporter": "python",
   "pygments_lexer": "ipython2",
   "version": "2.7.13"
  }
 },
 "nbformat": 4,
 "nbformat_minor": 2
}
